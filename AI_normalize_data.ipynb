{
 "cells": [
  {
   "cell_type": "code",
   "execution_count": 4,
   "metadata": {},
   "outputs": [],
   "source": [
    "import os\n",
    "import random"
   ]
  },
  {
   "cell_type": "code",
   "execution_count": 5,
   "metadata": {},
   "outputs": [
    {
     "name": "stdout",
     "output_type": "stream",
     "text": [
      "Directory 'Museum_Training/Training/' exists.\n"
     ]
    }
   ],
   "source": [
    "Train_dir = \"Museum_Training/Training/\"\n",
    "# Test_dir = \"Museum_Test/Museum_Validation/\"\n",
    "\n",
    "classification_targets = ['museum-indoor', 'museum-outdoor']\n",
    "\n",
    "def check_directory(directory):\n",
    "    if os.path.exists(directory):\n",
    "        print(f\"Directory '{directory}' exists.\")\n",
    "    else:\n",
    "        print(f\"Directory '{directory}' does NOT exist.\")\n",
    "\n",
    "check_directory(Train_dir)\n",
    "# check_directory(Test_dir)"
   ]
  },
  {
   "cell_type": "code",
   "execution_count": 6,
   "metadata": {},
   "outputs": [
    {
     "name": "stdout",
     "output_type": "stream",
     "text": [
      "\n",
      " Downsampling Complete: All classes now have 5000 images.\n"
     ]
    }
   ],
   "source": [
    "\n",
    "\n",
    "def downsample_classes(target_dir, classes):\n",
    "    \"\"\"\n",
    "    Downsample majority class images to match the minority class.\n",
    "    \n",
    "    Parameters:\n",
    "    - target_dir: Path to dataset containing class subfolders.\n",
    "    - classes: List of class names.\n",
    "    \"\"\"\n",
    "    class_counts = {}\n",
    "\n",
    "    for cls in classes:\n",
    "        class_dir = os.path.join(target_dir, cls)\n",
    "        images = [img for img in os.listdir(class_dir) if img.endswith(('.jpg', '.jpeg', '.png'))]\n",
    "        class_counts[cls] = len(images)\n",
    "\n",
    "    min_class_size = min(class_counts.values())\n",
    "\n",
    "    for cls in classes:\n",
    "        class_dir = os.path.join(target_dir, cls)\n",
    "        images = [img for img in os.listdir(class_dir) if img.endswith(('.jpg', '.jpeg', '.png'))]\n",
    "\n",
    "        # If the class has more images than the minority class, downsample\n",
    "        if len(images) > min_class_size:\n",
    "            images_to_remove = random.sample(images, len(images) - min_class_size)\n",
    "            for img_name in images_to_remove:\n",
    "                img_path = os.path.join(class_dir, img_name)\n",
    "                os.remove(img_path)\n",
    "\n",
    "            print(f\"Downsampled class '{cls}' from {len(images)} to {min_class_size} images.\")\n",
    "\n",
    "    print(\"\\n Downsampling Complete: All classes now have\", min_class_size, \"images.\")\n",
    "\n",
    "downsample_classes(Train_dir, classification_targets)\n"
   ]
  },
  {
   "cell_type": "code",
   "execution_count": null,
   "metadata": {},
   "outputs": [],
   "source": []
  }
 ],
 "metadata": {
  "kernelspec": {
   "display_name": "base",
   "language": "python",
   "name": "python3"
  },
  "language_info": {
   "codemirror_mode": {
    "name": "ipython",
    "version": 3
   },
   "file_extension": ".py",
   "mimetype": "text/x-python",
   "name": "python",
   "nbconvert_exporter": "python",
   "pygments_lexer": "ipython3",
   "version": "3.9.13"
  }
 },
 "nbformat": 4,
 "nbformat_minor": 2
}
